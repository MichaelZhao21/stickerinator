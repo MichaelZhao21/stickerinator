{
  "nbformat": 4,
  "nbformat_minor": 0,
  "metadata": {
    "colab": {
      "name": "stickerinator.ipynb",
      "provenance": [],
      "collapsed_sections": [],
      "authorship_tag": "ABX9TyPH7oTv2fmbivT7lYqoTbHc",
      "include_colab_link": true
    },
    "kernelspec": {
      "name": "python3",
      "display_name": "Python 3"
    },
    "language_info": {
      "name": "python"
    }
  },
  "cells": [
    {
      "cell_type": "markdown",
      "metadata": {
        "id": "view-in-github",
        "colab_type": "text"
      },
      "source": [
        "<a href=\"https://colab.research.google.com/github/MichaelZhao21/stickerinator/blob/master/stickerinator.ipynb\" target=\"_parent\"><img src=\"https://colab.research.google.com/assets/colab-badge.svg\" alt=\"Open In Colab\"/></a>"
      ]
    },
    {
      "cell_type": "markdown",
      "source": [
        "# Add Margins Function\n",
        "\n",
        "This will take in an image and add a 5% margin based on the most common color in the 4 corners (the background color). The inputs of this block can be any image type and will output images with `exp-` appended to the name."
      ],
      "metadata": {
        "id": "MX1U4l-vq5i_"
      }
    },
    {
      "cell_type": "code",
      "source": [
        "import math\n",
        "from PIL import Image, ImageFilter\n",
        "import numpy as np\n",
        "\n",
        "# Create output dir\n",
        "!mkdir margins\n",
        "\n",
        "def add_margin(filename):\n",
        "    # Read in the image file\n",
        "    im = Image.open(filename).convert('RGB')\n",
        "    ima = np.array(im)\n",
        "\n",
        "    # Apply a gaussian blur using 1% of the pixels (this number must be odd w/ min of 1)\n",
        "    blur_px = max(round(min(im.size[0], im.size[1]) * 0.01), 1);\n",
        "    imb = im.filter(ImageFilter.GaussianBlur(radius=2))\n",
        "    imba = np.array(imb)\n",
        "\n",
        "    # Show images\n",
        "    print('Original image dims:', im.size[1], 'x', im.size[0])\n",
        "    print('Blurred with', blur_px, 'x', blur_px, 'Gaussian filter')\n",
        "\n",
        "    # Utility function to round to the 10s place\n",
        "    round_tens = np.vectorize(lambda x: round(x / 10) * 10)\n",
        "    ceil_tens = np.vectorize(lambda x: min(math.ceil(x / 10) * 10, 250))\n",
        "\n",
        "    # Calculate how many pixels to get (~5% of the length of the shortest side)\n",
        "    width = im.size[0]\n",
        "    height = im.size[1]\n",
        "    px = round(min(width, height) * 0.05)\n",
        "    csz = px * px\n",
        "\n",
        "    # Get corners, where corners are stored in clockwise order starting from the top left\n",
        "    corners = np.zeros((4, px, px, 3))\n",
        "    corners[0] = imba[:px, :px]\n",
        "    corners[1] = imba[:px, -px:]\n",
        "    corners[2] = imba[-px:, :px]\n",
        "    corners[3] = imba[-px:, -px:]\n",
        "\n",
        "    # We first want to store all counts of color values in a dictionary\n",
        "    # Rounding the values to the tens place allows for us to correct for slight changes in color\n",
        "    # If there is a color that has a majority in the dictionary, it is probably the background color\n",
        "    corner_list = np.reshape(corners, (px * px * 4, 3))\n",
        "    rounded_corner_list = ceil_tens(corner_list)\n",
        "    corner_dict = {}\n",
        "    for item in rounded_corner_list:\n",
        "        item_t = tuple(item)\n",
        "        if item_t in corner_dict.keys():\n",
        "            corner_dict[item_t] = corner_dict[item_t] + 1\n",
        "        else:\n",
        "            corner_dict[item_t] = 1\n",
        "\n",
        "    # Sort the dictionary to get the most common color among all these pixels\n",
        "    corner_dict_sorted = dict(\n",
        "        sorted(corner_dict.items(), key=lambda item: -item[1]))\n",
        "    color_list = list(corner_dict_sorted.keys())\n",
        "    bg = color_list[0]\n",
        "\n",
        "    color_img = np.empty((40, 40, 3), np.uint8)\n",
        "    color_img[:, :] = bg\n",
        "\n",
        "    clist_img = np.empty((20, 20 * len(color_list), 3), np.uint8)\n",
        "    for i, val in enumerate(color_list):\n",
        "        clist_img[:, (i*20):((i+1)*20)] = val\n",
        "\n",
        "    print('Approx corner color counts:', corner_dict_sorted)\n",
        "    display(Image.fromarray(clist_img))\n",
        "    print('\\nMost common (probably background) color:', bg)\n",
        "    display(Image.fromarray(color_img))\n",
        "\n",
        "    # Expand the edges of the image by 10% of the longest edge with the background\n",
        "    # color as the fill color.\n",
        "    mg = round(max(width, height) * 0.1)\n",
        "    exp_img = np.full((height+(2*mg), width+(2*mg), 3), bg, np.float32)\n",
        "    exp_img[mg:(height+mg),mg:(width+mg)] = ima\n",
        "    ei = Image.fromarray((exp_img).astype(np.uint8))\n",
        "\n",
        "    print('\\nAdded', mg, 'pixel margin to edges:')\n",
        "    display(ei)\n",
        "\n",
        "    # Save\n",
        "    fn_no_pre = re.sub('^.*\\/', '', filename)\n",
        "    ei.save(f'margins/exp-{fn_no_pre}')"
      ],
      "metadata": {
        "colab": {
          "base_uri": "https://localhost:8080/"
        },
        "id": "-Uvru5IHq5a5",
        "outputId": "e401ef50-09bb-4e31-acef-f3f4a5c71d5f"
      },
      "execution_count": 6,
      "outputs": [
        {
          "output_type": "stream",
          "name": "stdout",
          "text": [
            "mkdir: cannot create directory ‘margins’: File exists\n"
          ]
        }
      ]
    },
    {
      "cell_type": "markdown",
      "source": [
        "# Remove Background, Add Border, and Crop (Process Image) Function"
      ],
      "metadata": {
        "id": "mgRZQfzMq1MG"
      }
    },
    {
      "cell_type": "code",
      "source": [
        "from PIL import Image, ImageDraw\n",
        "import numpy as np\n",
        "import re\n",
        "\n",
        "# Create output dir\n",
        "!mkdir processed\n",
        "\n",
        "def process_img(filename, add_border, crop, threshold=150):\n",
        "    # Read in the image file\n",
        "    im = Image.open(filename).convert('RGB')\n",
        "\n",
        "    # Floodfill op\n",
        "    print('\\nCreating image mask...')\n",
        "    ImageDraw.floodfill(im, xy=(10, 10), value=(255, 0, 255), thresh=threshold)\n",
        "\n",
        "    # Mask\n",
        "    am = np.array(im)\n",
        "    am[(am[:, :, 0:3] != [255, 0, 255]).any(2)] = [0, 255, 0]\n",
        "    mask = Image.fromarray(am)\n",
        "    print('Finished image mask!')\n",
        "    display(mask)\n",
        "\n",
        "    if add_border:\n",
        "        # Border checking function\n",
        "        maa = [255, 0, 255]\n",
        "        is_border = lambda r, c: (am[r, c] != maa).any() and ((am[r-1, c] == maa).all() or (am[r, c+1] == maa).all() or (am[r+1, c] == maa).all() or (am[r, c-1] == maa).all())\n",
        "\n",
        "        # Find and draw borders on mask\n",
        "        da = np.zeros(am.shape)\n",
        "        draw = ImageDraw.Draw(mask)\n",
        "        RAD = 8 # Border radius\n",
        "        print('\\nAdding borders on mask... Done with row ', end='')\n",
        "        for r in range(1, am.shape[0] - 1):\n",
        "            for c in range(1, am.shape[1] - 1):\n",
        "                if is_border(r, c):\n",
        "                    draw.ellipse((c-RAD,r-RAD,c+RAD,r+RAD), (0,255,0), None)\n",
        "            print(r, end=' | ')\n",
        "        print('\\nFinished adding borders on mask!')\n",
        "\n",
        "    # Overlay the adjusted mask onto the original mask if borders were added\n",
        "    if add_border:\n",
        "        # Add the 2 masks together\n",
        "        print('\\nCombining masks...')\n",
        "        ma = np.array(mask)\n",
        "        ma = ma + am\n",
        "\n",
        "        # Fix overflowed color values to 255\n",
        "        fix = lambda x : 255 if x > 0 else 0\n",
        "        fixv = np.vectorize(fix)\n",
        "        bma = fixv(ma)\n",
        "\n",
        "        # Overwrite bm and display\n",
        "        mask = Image.fromarray(bma.astype(np.uint8))\n",
        "        print('Finished image overlay with borders!')\n",
        "        display(mask)\n",
        "\n",
        "    # Apply mask to original image\n",
        "    print('\\nApplying mask to original image...')\n",
        "    im.putalpha(255)\n",
        "    imm = np.array(im)\n",
        "    bma = np.array(mask)\n",
        "    imm[(bma[:, :, 0:3] == [255, 255, 255]).all(2)] = [255, 255, 255, 255]\n",
        "    imm[(bma[:, :, 0:3] == [255, 0, 255]).all(2)] = [0, 0, 0, 0]\n",
        "    print('Finished masking original image!')\n",
        "    fim = Image.fromarray(imm)\n",
        "\n",
        "    # Crop the image\n",
        "    if crop:\n",
        "        # Get the max/min x/y of the image\n",
        "        maa = [255, 0, 255]\n",
        "        maxh, maxw, minh, minw = 0, 0, am.shape[0], am.shape[1]\n",
        "        print('\\nGetting image bounds...')\n",
        "        for r in range(1, am.shape[0] - 1):\n",
        "            for c in range(1, am.shape[1] - 1):\n",
        "                if (bma[r, c] != maa).any():\n",
        "                    if maxh < r:\n",
        "                        maxh = r\n",
        "                    if minh > r:\n",
        "                        minh = r\n",
        "                    if maxw < c:\n",
        "                        maxw = c\n",
        "                    if minw > c:\n",
        "                        minw = c\n",
        "        \n",
        "        # Add 5% margin to the base crop\n",
        "        mg = round(max(maxw - minw, maxh - minh) * 0.05)\n",
        "        print(f'Image bounds are (x, y): ({minw}, {minh}) to ({maxw}, {maxh})')\n",
        "        print('Cropping to bounds with', mg, 'px margin...')\n",
        "        minw = max(0, minw - mg)\n",
        "        minh = max(0, minh - mg)\n",
        "        maxw = min(am.shape[1], maxw + mg)\n",
        "        maxh = min(am.shape[0], maxh + mg)\n",
        "\n",
        "        # Actually crop the image\n",
        "        print('Cropping bounds (x, y, dx, dy):', (minw, minh, maxw - minw, maxh - minh))\n",
        "        fim = fim.crop((minw, minh, maxw, maxh))\n",
        "        print('Finished cropping image! Cropped size:', fim.size)\n",
        "    \n",
        "    # Save final image\n",
        "    display(fim)\n",
        "    fn_no_ext = re.sub('\\..*$', '', filename)\n",
        "    fn_no_ext_pre = re.sub('^.*/', '', fn_no_ext)\n",
        "    fim.save(f'processed/done-{fn_no_ext_pre}.png')"
      ],
      "metadata": {
        "id": "ArMqNYT7zHO8",
        "colab": {
          "base_uri": "https://localhost:8080/"
        },
        "outputId": "362b6c84-3be5-494a-d35d-747198f453ed"
      },
      "execution_count": 14,
      "outputs": [
        {
          "output_type": "stream",
          "name": "stdout",
          "text": [
            "mkdir: cannot create directory ‘processed’: File exists\n"
          ]
        }
      ]
    },
    {
      "cell_type": "markdown",
      "source": [
        "# Runner\n",
        "\n",
        "Make sure to initialize the functions above before running!"
      ],
      "metadata": {
        "id": "jSVVLe4FxmRs"
      }
    },
    {
      "cell_type": "code",
      "source": [
        "# Input file name\n",
        "FILE_NAME = 'file.jpg'\n",
        "\n",
        "# Add a margin to the input file (comment out if not needed!)\n",
        "add_margin(FILE_NAME)\n",
        "FILE_NAME = f'margins/exp-{FILE_NAME}'\n",
        "\n",
        "# Process the image\n",
        "# The last 3 parameters are options that can be changed\n",
        "process_img(FILE_NAME, add_border=True, crop=True, threshold=50)"
      ],
      "metadata": {
        "id": "gUe5l0W2xmKt"
      },
      "execution_count": null,
      "outputs": []
    },
    {
      "cell_type": "markdown",
      "source": [
        "# Runner for Folder (Add Margin)\n",
        "\n",
        "This will iterate through all images in a folder and process them! Make sure you only have **one** layer to your folder or it will crash :("
      ],
      "metadata": {
        "id": "cYRcNAFmKWDC"
      }
    },
    {
      "cell_type": "code",
      "source": [
        "import os\n",
        "\n",
        "FOLDER_NAME = 'needs-margins'\n",
        "\n",
        "for root, subdirs, files in os.walk(FOLDER_NAME):\n",
        "    for filename in files:\n",
        "        full_filename = os.path.join(root, filename)\n",
        "        add_margin(full_filename)"
      ],
      "metadata": {
        "id": "p7GRC69CKTiI"
      },
      "execution_count": null,
      "outputs": []
    },
    {
      "cell_type": "markdown",
      "source": [
        "# Runner for Folders (Process Image)"
      ],
      "metadata": {
        "id": "ZIhV4CpiO1zh"
      }
    },
    {
      "cell_type": "code",
      "source": [
        "import os\n",
        "\n",
        "FOLDER_NAME = 'has-margins'\n",
        "\n",
        "for root, subdirs, files in os.walk(FOLDER_NAME):\n",
        "    for filename in files:\n",
        "        full_filename = os.path.join(root, filename)\n",
        "        process_img(full_filename, add_border=True, crop=True, threshold=150)"
      ],
      "metadata": {
        "id": "zJ9_ZBfTO19i"
      },
      "execution_count": null,
      "outputs": []
    },
    {
      "cell_type": "markdown",
      "source": [
        "# Download a Folder!\n",
        "\n",
        "Hacky workaround to download a folder from google colab (essentially just zips it with the command `zip -r <output-zip-name>.zip <input-folder-path>`"
      ],
      "metadata": {
        "id": "1dCKM-ZBQX7q"
      }
    },
    {
      "cell_type": "code",
      "source": [
        "!zip -r processed.zip processed"
      ],
      "metadata": {
        "id": "t37p-YB3QYUY"
      },
      "execution_count": null,
      "outputs": []
    }
  ]
}